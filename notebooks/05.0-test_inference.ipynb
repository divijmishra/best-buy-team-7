{
 "cells": [
  {
   "cell_type": "code",
   "execution_count": null,
   "metadata": {},
   "outputs": [],
   "source": [
    "import pandas as pd\n",
    "import numpy as np\n",
    "from scipy.sparse import load_npz\n",
    "import pickle\n",
    "import joblib\n",
    "import time\n",
    "import json\n",
    "\n",
    "# sklearn imports\n",
    "from sklearn.preprocessing import LabelEncoder\n",
    "import imblearn\n",
    "from imblearn.over_sampling import RandomOverSampler\n",
    "from imblearn.under_sampling import RandomUnderSampler\n",
    "from sklearn.model_selection import ParameterSampler\n",
    "from sklearn.metrics import f1_score\n",
    "from sklearn.metrics import classification_report\n",
    "\n",
    "# classifier imports\n",
    "import xgboost as xgb\n",
    "from sklearn.naive_bayes import MultinomialNB\n",
    "\n",
    "seed = 1"
   ]
  },
  {
   "cell_type": "markdown",
   "metadata": {},
   "source": [
    "## Load models and test data"
   ]
  },
  {
   "cell_type": "code",
   "execution_count": null,
   "metadata": {},
   "outputs": [],
   "source": [
    "# load test data\n",
    "\n",
    "# labels\n",
    "load_path = \"../data/clean/test_labels.xlsx\"\n",
    "df_labels = pd.read_excel(load_path, index_col=0).reset_index()\n",
    "\n",
    "# tfidfs\n",
    "tfidf_cluster = load_npz(\"../data/interim/tfidfs/tfidf_350k_1percent_422words_test.npz\")\n",
    "tfidf_authorization = load_npz(\n",
    "    \"../data/interim/tfidfs/tfidf_authorization_1percent_401words_test.npz\"\n",
    ")\n",
    "tfidf_order = load_npz(\n",
    "    \"../data/interim/tfidfs/tfidf_order related and payments_1percent_439words_test.npz\"\n",
    ")\n",
    "tfidf_product = load_npz(\n",
    "    \"../data/interim/tfidfs/tfidf_product queries_1percent_351words_test.npz\"\n",
    ")\n",
    "tfidf_queries_website = load_npz(\n",
    "    \"../data/interim/tfidfs/tfidf_queries regarding website_1percent_274words_test.npz\"\n",
    ")\n",
    "tfidf_warranty = load_npz(\n",
    "    \"../data/interim/tfidfs/tfidf_warranty_1percent_433words_test.npz\"\n",
    ")"
   ]
  },
  {
   "cell_type": "code",
   "execution_count": null,
   "metadata": {},
   "outputs": [],
   "source": [
    "# # load val data\n",
    "\n",
    "# # labels\n",
    "# load_path = \"../data/clean/validation_labels.xlsx\"\n",
    "# df_labels = pd.read_excel(load_path, index_col=0).reset_index()\n",
    "\n",
    "# # tfidfs\n",
    "# tfidf_cluster = load_npz(\"../data/interim/tfidfs/tfidf_350k_1percent_422words_val.npz\")\n",
    "# tfidf_authorization = load_npz(\n",
    "#     \"../data/interim/tfidfs/tfidf_authorization_1percent_401words_val.npz\"\n",
    "# )\n",
    "# tfidf_order = load_npz(\n",
    "#     \"../data/interim/tfidfs/tfidf_order related and payments_1percent_439words_val.npz\"\n",
    "# )\n",
    "# tfidf_product = load_npz(\n",
    "#     \"../data/interim/tfidfs/tfidf_product queries_1percent_351words_val.npz\"\n",
    "# )\n",
    "# tfidf_queries_website = load_npz(\n",
    "#     \"../data/interim/tfidfs/tfidf_queries regarding website_1percent_274words_val.npz\"\n",
    "# )\n",
    "# tfidf_warranty = load_npz(\n",
    "#     \"../data/interim/tfidfs/tfidf_warranty_1percent_433words_val.npz\"\n",
    "# )"
   ]
  },
  {
   "cell_type": "code",
   "execution_count": null,
   "metadata": {},
   "outputs": [
    {
     "name": "stderr",
     "output_type": "stream",
     "text": [
      "/home/divij/anaconda3/envs/bestbuy-nlp/lib/python3.11/site-packages/sklearn/base.py:318: UserWarning: Trying to unpickle estimator LabelEncoder from version 1.3.2 when using version 1.2.2. This might lead to breaking code or invalid results. Use at your own risk. For more info please refer to:\n",
      "https://scikit-learn.org/stable/model_persistence.html#security-maintainability-limitations\n",
      "  warnings.warn(\n"
     ]
    }
   ],
   "source": [
    "# load models and label encoders\n",
    "model_load_path = \"../data/results/models/\"\n",
    "\n",
    "# model_warranty = joblib.load(model_load_path + \"xgb_warranty_jlib\")\n",
    "# le_warranty = joblib.load(model_load_path + \"lab_encoder_warranty_jlib\")\n",
    "\n",
    "# models\n",
    "with open(model_load_path + \"xgb_cluster_42_Noover_pkl\", \"rb\") as f:\n",
    "    model_cluster = pickle.load(f)\n",
    "with open(model_load_path + \"xgb_authorization_pkl\", \"rb\") as f:\n",
    "    model_authorization = pickle.load(f)\n",
    "with open(model_load_path + \"xgb_order_pkl\", \"rb\") as f:\n",
    "    model_order = pickle.load(f)\n",
    "with open(model_load_path + \"xgb_product_pkl\", \"rb\") as f:\n",
    "    model_product = pickle.load(f)\n",
    "with open(model_load_path + \"xgb_queries_website_pkl\", \"rb\") as f:\n",
    "    model_queries_website = pickle.load(f)\n",
    "with open(model_load_path + \"xgb_warranty_pkl\", \"rb\") as f:\n",
    "    model_warranty = pickle.load(f)\n",
    "\n",
    "# label encoders\n",
    "with open(model_load_path + \"lab_encoder_cluster_pkl\", \"rb\") as f:\n",
    "    le_cluster = pickle.load(f)\n",
    "with open(model_load_path + \"lab_encoder_authorization_pkl\", \"rb\") as f:\n",
    "    le_authorization = pickle.load(f)\n",
    "with open(model_load_path + \"lab_encoder_order_pkl\", \"rb\") as f:\n",
    "    le_order = pickle.load(f)\n",
    "with open(model_load_path + \"lab_encoder_product_pkl\", \"rb\") as f:\n",
    "    le_product = pickle.load(f)\n",
    "with open(model_load_path + \"lab_encoder_queries_website_pkl\", \"rb\") as f:\n",
    "    le_queries_website = pickle.load(f)\n",
    "with open(model_load_path + \"lab_encoder_warranty_pkl\", \"rb\") as f:\n",
    "    le_warranty = pickle.load(f)"
   ]
  },
  {
   "cell_type": "markdown",
   "metadata": {},
   "source": [
    "## Some preprocessing"
   ]
  },
  {
   "cell_type": "code",
   "execution_count": null,
   "metadata": {},
   "outputs": [
    {
     "data": {
      "text/html": [
       "<div>\n",
       "<style scoped>\n",
       "    .dataframe tbody tr th:only-of-type {\n",
       "        vertical-align: middle;\n",
       "    }\n",
       "\n",
       "    .dataframe tbody tr th {\n",
       "        vertical-align: top;\n",
       "    }\n",
       "\n",
       "    .dataframe thead th {\n",
       "        text-align: right;\n",
       "    }\n",
       "</style>\n",
       "<table border=\"1\" class=\"dataframe\">\n",
       "  <thead>\n",
       "    <tr style=\"text-align: right;\">\n",
       "      <th></th>\n",
       "      <th>index</th>\n",
       "      <th>label</th>\n",
       "    </tr>\n",
       "  </thead>\n",
       "  <tbody>\n",
       "    <tr>\n",
       "      <th>0</th>\n",
       "      <td>0</td>\n",
       "      <td>product availability and stock</td>\n",
       "    </tr>\n",
       "    <tr>\n",
       "      <th>1</th>\n",
       "      <td>1</td>\n",
       "      <td>bad customer service</td>\n",
       "    </tr>\n",
       "    <tr>\n",
       "      <th>2</th>\n",
       "      <td>2</td>\n",
       "      <td>product details inquiry</td>\n",
       "    </tr>\n",
       "    <tr>\n",
       "      <th>3</th>\n",
       "      <td>3</td>\n",
       "      <td>schedule repair</td>\n",
       "    </tr>\n",
       "    <tr>\n",
       "      <th>4</th>\n",
       "      <td>4</td>\n",
       "      <td>product details inquiry</td>\n",
       "    </tr>\n",
       "    <tr>\n",
       "      <th>...</th>\n",
       "      <td>...</td>\n",
       "      <td>...</td>\n",
       "    </tr>\n",
       "    <tr>\n",
       "      <th>47411</th>\n",
       "      <td>47411</td>\n",
       "      <td>delivery tracking</td>\n",
       "    </tr>\n",
       "    <tr>\n",
       "      <th>47412</th>\n",
       "      <td>47412</td>\n",
       "      <td>reschedule delivery</td>\n",
       "    </tr>\n",
       "    <tr>\n",
       "      <th>47413</th>\n",
       "      <td>47413</td>\n",
       "      <td>product availability and stock</td>\n",
       "    </tr>\n",
       "    <tr>\n",
       "      <th>47414</th>\n",
       "      <td>47414</td>\n",
       "      <td>cancel order</td>\n",
       "    </tr>\n",
       "    <tr>\n",
       "      <th>47415</th>\n",
       "      <td>47415</td>\n",
       "      <td>product details inquiry</td>\n",
       "    </tr>\n",
       "  </tbody>\n",
       "</table>\n",
       "<p>47416 rows × 2 columns</p>\n",
       "</div>"
      ],
      "text/plain": [
       "       index                           label\n",
       "0          0  product availability and stock\n",
       "1          1            bad customer service\n",
       "2          2         product details inquiry\n",
       "3          3                 schedule repair\n",
       "4          4         product details inquiry\n",
       "...      ...                             ...\n",
       "47411  47411               delivery tracking\n",
       "47412  47412             reschedule delivery\n",
       "47413  47413  product availability and stock\n",
       "47414  47414                    cancel order\n",
       "47415  47415         product details inquiry\n",
       "\n",
       "[47416 rows x 2 columns]"
      ]
     },
     "metadata": {},
     "output_type": "display_data"
    }
   ],
   "source": [
    "# prepare main data DF that will persist till the end\n",
    "df_labels"
   ]
  },
  {
   "cell_type": "code",
   "execution_count": null,
   "metadata": {},
   "outputs": [],
   "source": [
    "# cluster labels\n",
    "clusters = {\n",
    "    \"authorization\": [\n",
    "        \"account cancellation\",\n",
    "        \"account security\",\n",
    "        \"login issues\",\n",
    "        \"forgot my password\",\n",
    "        \"software update\",\n",
    "    ],\n",
    "    \"order related and payments\": [\n",
    "        \"best buy credit card\",\n",
    "        \"payment failed\",\n",
    "        \"billing or charge disputes\",\n",
    "        \"cancel order\",\n",
    "        \"unauthorized charge or payment\",\n",
    "        \"refund request\",\n",
    "        \"fraud concerns\",\n",
    "        \"return request\",\n",
    "        \"cancellation of a plan subscription or membership\",\n",
    "        \"account cancellation\",\n",
    "        \"change or update order\",\n",
    "        \"schedule order pickup\",\n",
    "        \"change shipping time\",\n",
    "        \"delivery tracking\",\n",
    "        \"refund status\",\n",
    "        \"change payment method\",\n",
    "        \"payment method\",\n",
    "        \"change shipping address\",\n",
    "        \"delivery or parts of delivery items missing\",\n",
    "        \"renewal of a plan subscription or membership\",\n",
    "        \"reschedule delivery\",\n",
    "        \"reschedule order pickup\",\n",
    "        \"rewards or discounts\",\n",
    "        \"schedule delivery\",\n",
    "        \"trade in inquiry\",\n",
    "        \"delivery delays\",\n",
    "    ],\n",
    "    \"warranty\": [\n",
    "        \"check warranty coverage\",\n",
    "        \"damaged product\",\n",
    "        \"warranty claim\",\n",
    "        \"reschedule repair\",\n",
    "        \"device damaged\",\n",
    "        \"incomplete installation\",\n",
    "        \"lost or forgot items\",\n",
    "        \"reschedule installation\",\n",
    "        \"schedule repair\",\n",
    "        \"screen issues\",\n",
    "        \"software error\",\n",
    "        \"software installation\",\n",
    "        \"schedule installation\",\n",
    "        \"troubleshooting\",\n",
    "        \"performance issues\",\n",
    "        \"defective product\",\n",
    "    ],\n",
    "    \"queries regarding website\": [\n",
    "        \"employment or career inquiries\",\n",
    "        \"website or app complaints\",\n",
    "        \"incomplete installation\",\n",
    "        \"miscellaneous inquiries\",\n",
    "        \"network or connectivity issues\",\n",
    "        \"customer feedback\",\n",
    "        \"bad customer service\",\n",
    "    ],\n",
    "    \"product queries\": [\n",
    "        \"price match\",  # 6759\n",
    "        \"product availability and stock\",  # 37972\n",
    "        \"product compatibility\",  # 10897\n",
    "        \"product details inquiry\",  # 42698\n",
    "        \"transfer call to the right department or store\",  # 5869\n",
    "    ],\n",
    "}\n",
    "\n",
    "# other dict\n",
    "other_dict = {\n",
    "    \"warranty\": [\n",
    "        \"screen issues\",\n",
    "        \"device damaged\",\n",
    "        \"check warranty coverage\",\n",
    "        \"lost or forgot items\",\n",
    "        \"reschedule installation\",\n",
    "        \"performance issues\",\n",
    "    ],\n",
    "    \"order related and payments\": [\n",
    "        \"change shipping time\",\n",
    "        \"best buy credit card\",\n",
    "        \"payment failed\",\n",
    "        \"account cancellation\",\n",
    "        \"reschedule order pickup\",\n",
    "    ],\n",
    "    \"product queries\": [],\n",
    "    \"queries regarding website\": [\n",
    "        \"website or app complaints\",\n",
    "        \"incomplete installation\",\n",
    "        \"network or connectivity issues\",\n",
    "    ],\n",
    "    \"authorization\": [],\n",
    "}\n",
    "\n",
    "# create a reverse lookup dict,\n",
    "# i.e. keys are labels and values are cluster labels\n",
    "cluster_lookup_dict = {}\n",
    "for cluster_label, v in clusters.items():\n",
    "    for label in v:\n",
    "        cluster_lookup_dict[label] = cluster_label\n",
    "\n",
    "df_labels[\"cluster_label\"] = df_labels[\"label\"].apply(lambda x: cluster_lookup_dict[x])\n",
    "\n",
    "# change labels to \"other\"\n",
    "df_labels[\"label\"] = df_labels[\"label\"].apply(\n",
    "    lambda x: \"other\" if x in other_dict[cluster_lookup_dict[x]] else x\n",
    ")"
   ]
  },
  {
   "cell_type": "code",
   "execution_count": null,
   "metadata": {},
   "outputs": [
    {
     "data": {
      "text/plain": [
       "{'account cancellation': 'order related and payments',\n",
       " 'account security': 'authorization',\n",
       " 'login issues': 'authorization',\n",
       " 'forgot my password': 'authorization',\n",
       " 'software update': 'authorization',\n",
       " 'best buy credit card': 'order related and payments',\n",
       " 'payment failed': 'order related and payments',\n",
       " 'billing or charge disputes': 'order related and payments',\n",
       " 'cancel order': 'order related and payments',\n",
       " 'unauthorized charge or payment': 'order related and payments',\n",
       " 'refund request': 'order related and payments',\n",
       " 'fraud concerns': 'order related and payments',\n",
       " 'return request': 'order related and payments',\n",
       " 'cancellation of a plan subscription or membership': 'order related and payments',\n",
       " 'change or update order': 'order related and payments',\n",
       " 'schedule order pickup': 'order related and payments',\n",
       " 'change shipping time': 'order related and payments',\n",
       " 'delivery tracking': 'order related and payments',\n",
       " 'refund status': 'order related and payments',\n",
       " 'change payment method': 'order related and payments',\n",
       " 'payment method': 'order related and payments',\n",
       " 'change shipping address': 'order related and payments',\n",
       " 'delivery or parts of delivery items missing': 'order related and payments',\n",
       " 'renewal of a plan subscription or membership': 'order related and payments',\n",
       " 'reschedule delivery': 'order related and payments',\n",
       " 'reschedule order pickup': 'order related and payments',\n",
       " 'rewards or discounts': 'order related and payments',\n",
       " 'schedule delivery': 'order related and payments',\n",
       " 'trade in inquiry': 'order related and payments',\n",
       " 'delivery delays': 'order related and payments',\n",
       " 'check warranty coverage': 'warranty',\n",
       " 'damaged product': 'warranty',\n",
       " 'warranty claim': 'warranty',\n",
       " 'reschedule repair': 'warranty',\n",
       " 'device damaged': 'warranty',\n",
       " 'incomplete installation': 'queries regarding website',\n",
       " 'lost or forgot items': 'warranty',\n",
       " 'reschedule installation': 'warranty',\n",
       " 'schedule repair': 'warranty',\n",
       " 'screen issues': 'warranty',\n",
       " 'software error': 'warranty',\n",
       " 'software installation': 'warranty',\n",
       " 'schedule installation': 'warranty',\n",
       " 'troubleshooting': 'warranty',\n",
       " 'performance issues': 'warranty',\n",
       " 'defective product': 'warranty',\n",
       " 'employment or career inquiries': 'queries regarding website',\n",
       " 'website or app complaints': 'queries regarding website',\n",
       " 'miscellaneous inquiries': 'queries regarding website',\n",
       " 'network or connectivity issues': 'queries regarding website',\n",
       " 'customer feedback': 'queries regarding website',\n",
       " 'bad customer service': 'queries regarding website',\n",
       " 'price match': 'product queries',\n",
       " 'product availability and stock': 'product queries',\n",
       " 'product compatibility': 'product queries',\n",
       " 'product details inquiry': 'product queries',\n",
       " 'transfer call to the right department or store': 'product queries'}"
      ]
     },
     "metadata": {},
     "output_type": "display_data"
    }
   ],
   "source": [
    "cluster_lookup_dict"
   ]
  },
  {
   "cell_type": "code",
   "execution_count": null,
   "metadata": {},
   "outputs": [
    {
     "data": {
      "text/plain": [
       "label\n",
       "product details inquiry                              5337\n",
       "product availability and stock                       4746\n",
       "schedule repair                                      4423\n",
       "change or update order                               3037\n",
       "defective product                                    2409\n",
       "other                                                1996\n",
       "schedule installation                                1827\n",
       "troubleshooting                                      1781\n",
       "renewal of a plan subscription or membership         1550\n",
       "product compatibility                                1362\n",
       "return request                                       1329\n",
       "damaged product                                      1133\n",
       "schedule order pickup                                1075\n",
       "cancel order                                          982\n",
       "software error                                        938\n",
       "miscellaneous inquiries                               918\n",
       "reschedule delivery                                   852\n",
       "price match                                           845\n",
       "rewards or discounts                                  807\n",
       "cancellation of a plan subscription or membership     796\n",
       "software installation                                 769\n",
       "transfer call to the right department or store        734\n",
       "unauthorized charge or payment                        692\n",
       "delivery tracking                                     689\n",
       "change payment method                                 472\n",
       "reschedule repair                                     470\n",
       "schedule delivery                                     456\n",
       "login issues                                          424\n",
       "trade in inquiry                                      415\n",
       "refund request                                        380\n",
       "warranty claim                                        376\n",
       "billing or charge disputes                            375\n",
       "change shipping address                               374\n",
       "bad customer service                                  346\n",
       "payment method                                        328\n",
       "employment or career inquiries                        324\n",
       "forgot my password                                    322\n",
       "delivery delays                                       259\n",
       "fraud concerns                                        232\n",
       "account security                                      212\n",
       "delivery or parts of delivery items missing           191\n",
       "refund status                                         189\n",
       "customer feedback                                     128\n",
       "software update                                       116\n",
       "Name: count, dtype: int64"
      ]
     },
     "metadata": {},
     "output_type": "display_data"
    }
   ],
   "source": [
    "df_labels[\"label\"].value_counts()"
   ]
  },
  {
   "cell_type": "markdown",
   "metadata": {},
   "source": [
    "## Cluster model inference"
   ]
  },
  {
   "cell_type": "code",
   "execution_count": null,
   "metadata": {},
   "outputs": [],
   "source": [
    "# prepare X, y\n",
    "X = tfidf_cluster.toarray()\n",
    "y = df_labels[\"cluster_label\"].values\n",
    "y = le_cluster.transform(y)"
   ]
  },
  {
   "cell_type": "code",
   "execution_count": null,
   "metadata": {},
   "outputs": [],
   "source": [
    "# run inference\n",
    "y_pred_cluster = model_cluster.predict(X)"
   ]
  },
  {
   "cell_type": "code",
   "execution_count": null,
   "metadata": {},
   "outputs": [],
   "source": [
    "# prepare for the next layer of classifiers\n",
    "y_pred_cluster = pd.Series(le_cluster.inverse_transform(y_pred_cluster)).reset_index()"
   ]
  },
  {
   "cell_type": "code",
   "execution_count": null,
   "metadata": {},
   "outputs": [
    {
     "name": "stdout",
     "output_type": "stream",
     "text": [
      "0.7615151003880547\n",
      "                            precision    recall  f1-score   support\n",
      "\n",
      "             authorization       0.55      0.68      0.61      1074\n",
      "order related and payments       0.86      0.79      0.82     15866\n",
      "           product queries       0.71      0.74      0.73     13024\n",
      " queries regarding website       0.47      0.60      0.53      1938\n",
      "                  warranty       0.78      0.77      0.77     15514\n",
      "\n",
      "                  accuracy                           0.76     47416\n",
      "                 macro avg       0.67      0.72      0.69     47416\n",
      "              weighted avg       0.77      0.76      0.76     47416\n",
      "\n"
     ]
    }
   ],
   "source": [
    "# print f1-score and classification report for this classifier\n",
    "micro_f1_score = f1_score(\n",
    "    df_labels[\"cluster_label\"].values, y_pred_cluster[0].values, average=\"micro\"\n",
    ")\n",
    "print(micro_f1_score)\n",
    "\n",
    "clf_report = classification_report(\n",
    "    df_labels[\"cluster_label\"].values, y_pred_cluster[0].values\n",
    ")\n",
    "print(clf_report)"
   ]
  },
  {
   "cell_type": "code",
   "execution_count": null,
   "metadata": {},
   "outputs": [
    {
     "data": {
      "text/plain": [
       "0\n",
       "warranty                      15295\n",
       "order related and payments    14714\n",
       "product queries               13637\n",
       "queries regarding website      2452\n",
       "authorization                  1318\n",
       "Name: count, dtype: int64"
      ]
     },
     "metadata": {},
     "output_type": "display_data"
    }
   ],
   "source": [
    "y_pred_cluster[0].value_counts()"
   ]
  },
  {
   "cell_type": "markdown",
   "metadata": {},
   "source": [
    "## Layer 2 inferences"
   ]
  },
  {
   "cell_type": "markdown",
   "metadata": {},
   "source": [
    "#### Cluster: Authorization"
   ]
  },
  {
   "cell_type": "code",
   "execution_count": null,
   "metadata": {},
   "outputs": [],
   "source": [
    "# prepare data\n",
    "\n",
    "# filter obs classified to this cluster\n",
    "cluster_name = \"authorization\"\n",
    "\n",
    "df_test = pd.DataFrame.sparse.from_spmatrix(tfidf_authorization)\n",
    "df_test = df_test[y_pred_cluster[0] == cluster_name]\n",
    "\n",
    "# prepare X\n",
    "X = df_test.to_numpy()"
   ]
  },
  {
   "cell_type": "code",
   "execution_count": null,
   "metadata": {},
   "outputs": [],
   "source": [
    "# run inference\n",
    "y_pred_authorization = model_authorization.predict(X)"
   ]
  },
  {
   "cell_type": "code",
   "execution_count": null,
   "metadata": {},
   "outputs": [],
   "source": [
    "# prepare for the next layer of classifiers\n",
    "y_pred_authorization = pd.Series(\n",
    "    le_authorization.inverse_transform(y_pred_authorization), index=df_test.index\n",
    ")"
   ]
  },
  {
   "cell_type": "code",
   "execution_count": null,
   "metadata": {},
   "outputs": [
    {
     "data": {
      "text/plain": [
       "login issues          505\n",
       "forgot my password    479\n",
       "account security      288\n",
       "software update        46\n",
       "Name: count, dtype: int64"
      ]
     },
     "metadata": {},
     "output_type": "display_data"
    }
   ],
   "source": [
    "y_pred_authorization.value_counts()"
   ]
  },
  {
   "cell_type": "code",
   "execution_count": null,
   "metadata": {},
   "outputs": [
    {
     "name": "stdout",
     "output_type": "stream",
     "text": [
      "0.37556904400606983\n",
      "                                                precision    recall  f1-score   support\n",
      "\n",
      "                              account security       0.24      0.55      0.34       127\n",
      "                          bad customer service       0.00      0.00      0.00         5\n",
      "                    billing or charge disputes       0.00      0.00      0.00         9\n",
      "                        change or update order       0.00      0.00      0.00        89\n",
      "                         change payment method       0.00      0.00      0.00         6\n",
      "                       change shipping address       0.00      0.00      0.00         2\n",
      "                             customer feedback       0.00      0.00      0.00         1\n",
      "                               damaged product       0.00      0.00      0.00         1\n",
      "                             defective product       0.00      0.00      0.00         5\n",
      "   delivery or parts of delivery items missing       0.00      0.00      0.00         1\n",
      "                             delivery tracking       0.00      0.00      0.00         2\n",
      "                employment or career inquiries       0.00      0.00      0.00         1\n",
      "                            forgot my password       0.41      0.73      0.53       273\n",
      "                                fraud concerns       0.00      0.00      0.00         4\n",
      "                                  login issues       0.42      0.68      0.52       310\n",
      "                       miscellaneous inquiries       0.00      0.00      0.00        15\n",
      "                                         other       0.00      0.00      0.00        48\n",
      "                                payment method       0.00      0.00      0.00         3\n",
      "                product availability and stock       0.00      0.00      0.00         6\n",
      "                         product compatibility       0.00      0.00      0.00         5\n",
      "                       product details inquiry       0.00      0.00      0.00        58\n",
      "  renewal of a plan subscription or membership       0.00      0.00      0.00        18\n",
      "                             reschedule repair       0.00      0.00      0.00         1\n",
      "                                return request       0.00      0.00      0.00         1\n",
      "                          rewards or discounts       0.00      0.00      0.00        13\n",
      "                             schedule delivery       0.00      0.00      0.00         2\n",
      "                         schedule installation       0.00      0.00      0.00         3\n",
      "                         schedule order pickup       0.00      0.00      0.00         6\n",
      "                               schedule repair       0.00      0.00      0.00        17\n",
      "                                software error       0.00      0.00      0.00        94\n",
      "                         software installation       0.00      0.00      0.00        77\n",
      "                               software update       0.37      0.85      0.52        20\n",
      "                              trade in inquiry       0.00      0.00      0.00         1\n",
      "transfer call to the right department or store       0.00      0.00      0.00         8\n",
      "                               troubleshooting       0.00      0.00      0.00        71\n",
      "                unauthorized charge or payment       0.00      0.00      0.00        15\n",
      "\n",
      "                                      accuracy                           0.38      1318\n",
      "                                     macro avg       0.04      0.08      0.05      1318\n",
      "                                  weighted avg       0.21      0.38      0.27      1318\n",
      "\n"
     ]
    },
    {
     "name": "stderr",
     "output_type": "stream",
     "text": [
      "/home/divij/anaconda3/envs/bestbuy-nlp/lib/python3.11/site-packages/sklearn/metrics/_classification.py:1344: UndefinedMetricWarning: Precision and F-score are ill-defined and being set to 0.0 in labels with no predicted samples. Use `zero_division` parameter to control this behavior.\n",
      "  _warn_prf(average, modifier, msg_start, len(result))\n",
      "/home/divij/anaconda3/envs/bestbuy-nlp/lib/python3.11/site-packages/sklearn/metrics/_classification.py:1344: UndefinedMetricWarning: Precision and F-score are ill-defined and being set to 0.0 in labels with no predicted samples. Use `zero_division` parameter to control this behavior.\n",
      "  _warn_prf(average, modifier, msg_start, len(result))\n",
      "/home/divij/anaconda3/envs/bestbuy-nlp/lib/python3.11/site-packages/sklearn/metrics/_classification.py:1344: UndefinedMetricWarning: Precision and F-score are ill-defined and being set to 0.0 in labels with no predicted samples. Use `zero_division` parameter to control this behavior.\n",
      "  _warn_prf(average, modifier, msg_start, len(result))\n"
     ]
    }
   ],
   "source": [
    "# print f1-score and classification report for this classifier\n",
    "y_true = df_labels.loc[y_pred_authorization.index][\"label\"].values\n",
    "y_pred = y_pred_authorization.values\n",
    "\n",
    "micro_f1_score = f1_score(y_true, y_pred, average=\"micro\")\n",
    "print(micro_f1_score)\n",
    "\n",
    "clf_report = classification_report(y_true, y_pred)\n",
    "print(clf_report)"
   ]
  },
  {
   "cell_type": "markdown",
   "metadata": {},
   "source": [
    "#### Cluster: Order related and payments"
   ]
  },
  {
   "cell_type": "code",
   "execution_count": null,
   "metadata": {},
   "outputs": [],
   "source": [
    "# prepare data\n",
    "\n",
    "# filter obs classified to this cluster\n",
    "cluster_name = \"order related and payments\"\n",
    "\n",
    "df_test = pd.DataFrame.sparse.from_spmatrix(tfidf_order)\n",
    "df_test = df_test[y_pred_cluster[0] == cluster_name]\n",
    "\n",
    "# prepare X\n",
    "X = df_test.to_numpy()"
   ]
  },
  {
   "cell_type": "code",
   "execution_count": null,
   "metadata": {},
   "outputs": [],
   "source": [
    "# run inference\n",
    "y_pred_order = model_order.predict(X)"
   ]
  },
  {
   "cell_type": "code",
   "execution_count": null,
   "metadata": {},
   "outputs": [],
   "source": [
    "# prepare for the next layer of classifiers\n",
    "y_pred_order = pd.Series(le_order.inverse_transform(y_pred_order), index=df_test.index)"
   ]
  },
  {
   "cell_type": "code",
   "execution_count": null,
   "metadata": {},
   "outputs": [
    {
     "data": {
      "text/plain": [
       "change or update order                               3189\n",
       "renewal of a plan subscription or membership         1720\n",
       "return request                                       1489\n",
       "schedule order pickup                                1126\n",
       "cancellation of a plan subscription or membership     833\n",
       "cancel order                                          800\n",
       "delivery tracking                                     728\n",
       "reschedule delivery                                   706\n",
       "rewards or discounts                                  655\n",
       "unauthorized charge or payment                        533\n",
       "refund request                                        514\n",
       "trade in inquiry                                      384\n",
       "change payment method                                 376\n",
       "schedule delivery                                     286\n",
       "payment method                                        269\n",
       "change shipping address                               242\n",
       "billing or charge disputes                            214\n",
       "fraud concerns                                        171\n",
       "other                                                 162\n",
       "refund status                                         159\n",
       "delivery delays                                        89\n",
       "wrong_cluster                                          50\n",
       "delivery or parts of delivery items missing            19\n",
       "Name: count, dtype: int64"
      ]
     },
     "metadata": {},
     "output_type": "display_data"
    }
   ],
   "source": [
    "y_pred_order.value_counts()"
   ]
  },
  {
   "cell_type": "code",
   "execution_count": null,
   "metadata": {},
   "outputs": [
    {
     "name": "stdout",
     "output_type": "stream",
     "text": [
      "0.5302433056952562\n"
     ]
    },
    {
     "name": "stderr",
     "output_type": "stream",
     "text": [
      "/home/divij/anaconda3/envs/bestbuy-nlp/lib/python3.11/site-packages/sklearn/metrics/_classification.py:1344: UndefinedMetricWarning: Precision and F-score are ill-defined and being set to 0.0 in labels with no predicted samples. Use `zero_division` parameter to control this behavior.\n",
      "  _warn_prf(average, modifier, msg_start, len(result))\n",
      "/home/divij/anaconda3/envs/bestbuy-nlp/lib/python3.11/site-packages/sklearn/metrics/_classification.py:1344: UndefinedMetricWarning: Recall and F-score are ill-defined and being set to 0.0 in labels with no true samples. Use `zero_division` parameter to control this behavior.\n",
      "  _warn_prf(average, modifier, msg_start, len(result))\n",
      "/home/divij/anaconda3/envs/bestbuy-nlp/lib/python3.11/site-packages/sklearn/metrics/_classification.py:1344: UndefinedMetricWarning: Precision and F-score are ill-defined and being set to 0.0 in labels with no predicted samples. Use `zero_division` parameter to control this behavior.\n",
      "  _warn_prf(average, modifier, msg_start, len(result))\n",
      "/home/divij/anaconda3/envs/bestbuy-nlp/lib/python3.11/site-packages/sklearn/metrics/_classification.py:1344: UndefinedMetricWarning: Recall and F-score are ill-defined and being set to 0.0 in labels with no true samples. Use `zero_division` parameter to control this behavior.\n",
      "  _warn_prf(average, modifier, msg_start, len(result))\n"
     ]
    },
    {
     "name": "stdout",
     "output_type": "stream",
     "text": [
      "                                                   precision    recall  f1-score   support\n",
      "\n",
      "                                 account security       0.00      0.00      0.00        47\n",
      "                             bad customer service       0.00      0.00      0.00        41\n",
      "                       billing or charge disputes       0.43      0.28      0.34       328\n",
      "                                     cancel order       0.60      0.53      0.56       915\n",
      "cancellation of a plan subscription or membership       0.65      0.70      0.67       776\n",
      "                           change or update order       0.41      0.64      0.50      2043\n",
      "                            change payment method       0.47      0.41      0.44       423\n",
      "                          change shipping address       0.64      0.52      0.57       299\n",
      "                                customer feedback       0.00      0.00      0.00        32\n",
      "                                  damaged product       0.00      0.00      0.00       254\n",
      "                                defective product       0.00      0.00      0.00       268\n",
      "                                  delivery delays       0.36      0.15      0.21       210\n",
      "      delivery or parts of delivery items missing       0.11      0.02      0.03       123\n",
      "                                delivery tracking       0.40      0.54      0.46       540\n",
      "                               forgot my password       0.00      0.00      0.00         3\n",
      "                                   fraud concerns       0.49      0.44      0.46       187\n",
      "                                     login issues       0.00      0.00      0.00        15\n",
      "                          miscellaneous inquiries       0.00      0.00      0.00        42\n",
      "                                            other       0.34      0.13      0.19       422\n",
      "                                   payment method       0.34      0.35      0.34       265\n",
      "                                      price match       0.00      0.00      0.00        45\n",
      "                   product availability and stock       0.00      0.00      0.00       245\n",
      "                            product compatibility       0.00      0.00      0.00        65\n",
      "                          product details inquiry       0.00      0.00      0.00       491\n",
      "                                   refund request       0.37      0.54      0.44       352\n",
      "                                    refund status       0.50      0.43      0.46       183\n",
      "     renewal of a plan subscription or membership       0.61      0.80      0.69      1303\n",
      "                              reschedule delivery       0.58      0.70      0.64       588\n",
      "                                reschedule repair       0.00      0.00      0.00        53\n",
      "                                   return request       0.60      0.83      0.70      1069\n",
      "                             rewards or discounts       0.79      0.79      0.79       658\n",
      "                                schedule delivery       0.36      0.37      0.37       278\n",
      "                            schedule installation       0.00      0.00      0.00        82\n",
      "                            schedule order pickup       0.60      0.85      0.70       798\n",
      "                                  schedule repair       0.00      0.00      0.00       132\n",
      "                                   software error       0.00      0.00      0.00        35\n",
      "                            software installation       0.00      0.00      0.00        64\n",
      "                                  software update       0.00      0.00      0.00        24\n",
      "                                 trade in inquiry       0.82      0.94      0.87       334\n",
      "   transfer call to the right department or store       0.00      0.00      0.00        25\n",
      "                                  troubleshooting       0.00      0.00      0.00         8\n",
      "                   unauthorized charge or payment       0.51      0.44      0.47       626\n",
      "                                   warranty claim       0.00      0.00      0.00        23\n",
      "                                    wrong_cluster       0.00      0.00      0.00         0\n",
      "\n",
      "                                         accuracy                           0.53     14714\n",
      "                                        macro avg       0.25      0.26      0.25     14714\n",
      "                                     weighted avg       0.46      0.53      0.48     14714\n",
      "\n"
     ]
    },
    {
     "name": "stderr",
     "output_type": "stream",
     "text": [
      "/home/divij/anaconda3/envs/bestbuy-nlp/lib/python3.11/site-packages/sklearn/metrics/_classification.py:1344: UndefinedMetricWarning: Precision and F-score are ill-defined and being set to 0.0 in labels with no predicted samples. Use `zero_division` parameter to control this behavior.\n",
      "  _warn_prf(average, modifier, msg_start, len(result))\n",
      "/home/divij/anaconda3/envs/bestbuy-nlp/lib/python3.11/site-packages/sklearn/metrics/_classification.py:1344: UndefinedMetricWarning: Recall and F-score are ill-defined and being set to 0.0 in labels with no true samples. Use `zero_division` parameter to control this behavior.\n",
      "  _warn_prf(average, modifier, msg_start, len(result))\n"
     ]
    }
   ],
   "source": [
    "# print f1-score and classification report for this classifier\n",
    "y_true = df_labels.loc[y_pred_order.index][\"label\"].values\n",
    "y_pred = y_pred_order.values\n",
    "\n",
    "micro_f1_score = f1_score(y_true, y_pred, average=\"micro\")\n",
    "print(micro_f1_score)\n",
    "\n",
    "clf_report = classification_report(y_true, y_pred)\n",
    "print(clf_report)"
   ]
  },
  {
   "cell_type": "markdown",
   "metadata": {},
   "source": [
    "#### Cluster: Product queries"
   ]
  },
  {
   "cell_type": "code",
   "execution_count": null,
   "metadata": {},
   "outputs": [],
   "source": [
    "# prepare data\n",
    "\n",
    "# filter obs classified to this cluster\n",
    "cluster_name = \"product queries\"\n",
    "\n",
    "df_test = pd.DataFrame.sparse.from_spmatrix(tfidf_product)\n",
    "df_test = df_test[y_pred_cluster[0] == cluster_name]\n",
    "\n",
    "# prepare X\n",
    "X = df_test.to_numpy()"
   ]
  },
  {
   "cell_type": "code",
   "execution_count": null,
   "metadata": {},
   "outputs": [],
   "source": [
    "# run inference\n",
    "y_pred_product = model_product.predict(X)"
   ]
  },
  {
   "cell_type": "code",
   "execution_count": null,
   "metadata": {},
   "outputs": [],
   "source": [
    "# prepare for the next layer of classifiers\n",
    "y_pred_product = pd.Series(\n",
    "    le_product.inverse_transform(y_pred_product), index=df_test.index\n",
    ")"
   ]
  },
  {
   "cell_type": "code",
   "execution_count": null,
   "metadata": {},
   "outputs": [
    {
     "data": {
      "text/plain": [
       "product details inquiry                           6617\n",
       "product availability and stock                    5063\n",
       "price match                                        821\n",
       "transfer call to the right department or store     578\n",
       "product compatibility                              543\n",
       "wrong_cluster                                       15\n",
       "Name: count, dtype: int64"
      ]
     },
     "metadata": {},
     "output_type": "display_data"
    }
   ],
   "source": [
    "y_pred_product.value_counts()"
   ]
  },
  {
   "cell_type": "code",
   "execution_count": null,
   "metadata": {},
   "outputs": [
    {
     "name": "stdout",
     "output_type": "stream",
     "text": [
      "0.5411014152672875\n"
     ]
    },
    {
     "name": "stderr",
     "output_type": "stream",
     "text": [
      "/home/divij/anaconda3/envs/bestbuy-nlp/lib/python3.11/site-packages/sklearn/metrics/_classification.py:1344: UndefinedMetricWarning: Precision and F-score are ill-defined and being set to 0.0 in labels with no predicted samples. Use `zero_division` parameter to control this behavior.\n",
      "  _warn_prf(average, modifier, msg_start, len(result))\n",
      "/home/divij/anaconda3/envs/bestbuy-nlp/lib/python3.11/site-packages/sklearn/metrics/_classification.py:1344: UndefinedMetricWarning: Recall and F-score are ill-defined and being set to 0.0 in labels with no true samples. Use `zero_division` parameter to control this behavior.\n",
      "  _warn_prf(average, modifier, msg_start, len(result))\n",
      "/home/divij/anaconda3/envs/bestbuy-nlp/lib/python3.11/site-packages/sklearn/metrics/_classification.py:1344: UndefinedMetricWarning: Precision and F-score are ill-defined and being set to 0.0 in labels with no predicted samples. Use `zero_division` parameter to control this behavior.\n",
      "  _warn_prf(average, modifier, msg_start, len(result))\n",
      "/home/divij/anaconda3/envs/bestbuy-nlp/lib/python3.11/site-packages/sklearn/metrics/_classification.py:1344: UndefinedMetricWarning: Recall and F-score are ill-defined and being set to 0.0 in labels with no true samples. Use `zero_division` parameter to control this behavior.\n",
      "  _warn_prf(average, modifier, msg_start, len(result))\n"
     ]
    },
    {
     "name": "stdout",
     "output_type": "stream",
     "text": [
      "                                                   precision    recall  f1-score   support\n",
      "\n",
      "                                 account security       0.00      0.00      0.00        17\n",
      "                             bad customer service       0.00      0.00      0.00        75\n",
      "                       billing or charge disputes       0.00      0.00      0.00        26\n",
      "                                     cancel order       0.00      0.00      0.00        13\n",
      "cancellation of a plan subscription or membership       0.00      0.00      0.00         9\n",
      "                           change or update order       0.00      0.00      0.00       565\n",
      "                            change payment method       0.00      0.00      0.00        32\n",
      "                          change shipping address       0.00      0.00      0.00        42\n",
      "                                customer feedback       0.00      0.00      0.00        32\n",
      "                                  damaged product       0.00      0.00      0.00       186\n",
      "                                defective product       0.00      0.00      0.00       368\n",
      "                                  delivery delays       0.00      0.00      0.00        20\n",
      "      delivery or parts of delivery items missing       0.00      0.00      0.00        36\n",
      "                                delivery tracking       0.00      0.00      0.00        67\n",
      "                   employment or career inquiries       0.00      0.00      0.00        30\n",
      "                               forgot my password       0.00      0.00      0.00         5\n",
      "                                   fraud concerns       0.00      0.00      0.00         7\n",
      "                                     login issues       0.00      0.00      0.00        14\n",
      "                          miscellaneous inquiries       0.00      0.00      0.00       244\n",
      "                                            other       0.00      0.00      0.00       396\n",
      "                                   payment method       0.00      0.00      0.00        40\n",
      "                                      price match       0.87      0.90      0.88       793\n",
      "                   product availability and stock       0.69      0.82      0.75      4252\n",
      "                            product compatibility       0.57      0.36      0.44       853\n",
      "                          product details inquiry       0.39      0.76      0.52      3387\n",
      "                                   refund request       0.00      0.00      0.00         9\n",
      "                                    refund status       0.00      0.00      0.00         4\n",
      "     renewal of a plan subscription or membership       0.00      0.00      0.00       118\n",
      "                              reschedule delivery       0.00      0.00      0.00         5\n",
      "                                reschedule repair       0.00      0.00      0.00         1\n",
      "                                   return request       0.00      0.00      0.00       107\n",
      "                             rewards or discounts       0.00      0.00      0.00        84\n",
      "                                schedule delivery       0.00      0.00      0.00        25\n",
      "                            schedule installation       0.00      0.00      0.00       315\n",
      "                            schedule order pickup       0.00      0.00      0.00       135\n",
      "                                  schedule repair       0.00      0.00      0.00       270\n",
      "                                   software error       0.00      0.00      0.00       101\n",
      "                            software installation       0.00      0.00      0.00       170\n",
      "                                  software update       0.00      0.00      0.00        20\n",
      "                                 trade in inquiry       0.00      0.00      0.00        50\n",
      "   transfer call to the right department or store       0.49      0.70      0.57       403\n",
      "                                  troubleshooting       0.00      0.00      0.00       227\n",
      "                   unauthorized charge or payment       0.00      0.00      0.00        33\n",
      "                                   warranty claim       0.00      0.00      0.00        51\n",
      "                                    wrong_cluster       0.00      0.00      0.00         0\n",
      "\n",
      "                                         accuracy                           0.54     13637\n",
      "                                        macro avg       0.07      0.08      0.07     13637\n",
      "                                     weighted avg       0.41      0.54      0.46     13637\n",
      "\n"
     ]
    },
    {
     "name": "stderr",
     "output_type": "stream",
     "text": [
      "/home/divij/anaconda3/envs/bestbuy-nlp/lib/python3.11/site-packages/sklearn/metrics/_classification.py:1344: UndefinedMetricWarning: Precision and F-score are ill-defined and being set to 0.0 in labels with no predicted samples. Use `zero_division` parameter to control this behavior.\n",
      "  _warn_prf(average, modifier, msg_start, len(result))\n",
      "/home/divij/anaconda3/envs/bestbuy-nlp/lib/python3.11/site-packages/sklearn/metrics/_classification.py:1344: UndefinedMetricWarning: Recall and F-score are ill-defined and being set to 0.0 in labels with no true samples. Use `zero_division` parameter to control this behavior.\n",
      "  _warn_prf(average, modifier, msg_start, len(result))\n"
     ]
    }
   ],
   "source": [
    "# print f1-score and classification report for this classifier\n",
    "y_true = df_labels.loc[y_pred_product.index][\"label\"].values\n",
    "y_pred = y_pred_product.values\n",
    "\n",
    "micro_f1_score = f1_score(y_true, y_pred, average=\"micro\")\n",
    "print(micro_f1_score)\n",
    "\n",
    "clf_report = classification_report(y_true, y_pred)\n",
    "print(clf_report)"
   ]
  },
  {
   "cell_type": "markdown",
   "metadata": {},
   "source": [
    "#### Cluster: Queries regarding website"
   ]
  },
  {
   "cell_type": "code",
   "execution_count": null,
   "metadata": {},
   "outputs": [],
   "source": [
    "# prepare data\n",
    "\n",
    "# filter obs classified to this cluster\n",
    "cluster_name = \"queries regarding website\"\n",
    "\n",
    "df_test = pd.DataFrame.sparse.from_spmatrix(tfidf_queries_website)\n",
    "df_test = df_test[y_pred_cluster[0] == cluster_name]\n",
    "\n",
    "# prepare X\n",
    "X = df_test.to_numpy()"
   ]
  },
  {
   "cell_type": "code",
   "execution_count": null,
   "metadata": {},
   "outputs": [],
   "source": [
    "# run inference\n",
    "y_pred_queries_website = model_queries_website.predict(X)"
   ]
  },
  {
   "cell_type": "code",
   "execution_count": null,
   "metadata": {},
   "outputs": [],
   "source": [
    "# prepare for the next layer of classifiers\n",
    "y_pred_queries_website = pd.Series(\n",
    "    le_queries_website.inverse_transform(y_pred_queries_website), index=df_test.index\n",
    ")"
   ]
  },
  {
   "cell_type": "code",
   "execution_count": null,
   "metadata": {},
   "outputs": [
    {
     "data": {
      "text/plain": [
       "miscellaneous inquiries           1612\n",
       "bad customer service               356\n",
       "employment or career inquiries     333\n",
       "other                               82\n",
       "customer feedback                   60\n",
       "wrong_cluster                        9\n",
       "Name: count, dtype: int64"
      ]
     },
     "metadata": {},
     "output_type": "display_data"
    }
   ],
   "source": [
    "y_pred_queries_website.value_counts()"
   ]
  },
  {
   "cell_type": "code",
   "execution_count": null,
   "metadata": {},
   "outputs": [
    {
     "name": "stdout",
     "output_type": "stream",
     "text": [
      "0.3556280587275693\n",
      "                                                   precision    recall  f1-score   support\n",
      "\n",
      "                                 account security       0.00      0.00      0.00        10\n",
      "                             bad customer service       0.22      0.42      0.29       192\n",
      "                       billing or charge disputes       0.00      0.00      0.00         8\n",
      "                                     cancel order       0.00      0.00      0.00         3\n",
      "cancellation of a plan subscription or membership       0.00      0.00      0.00         2\n",
      "                           change or update order       0.00      0.00      0.00        59\n",
      "                            change payment method       0.00      0.00      0.00         6\n",
      "                          change shipping address       0.00      0.00      0.00         9\n",
      "                                customer feedback       0.18      0.22      0.20        49\n",
      "                                  damaged product       0.00      0.00      0.00        15\n",
      "                                defective product       0.00      0.00      0.00        30\n",
      "                                  delivery delays       0.00      0.00      0.00         7\n",
      "      delivery or parts of delivery items missing       0.00      0.00      0.00         7\n",
      "                                delivery tracking       0.00      0.00      0.00        17\n",
      "                   employment or career inquiries       0.73      0.84      0.78       289\n",
      "                               forgot my password       0.00      0.00      0.00         1\n",
      "                                   fraud concerns       0.00      0.00      0.00        16\n",
      "                                     login issues       0.00      0.00      0.00        31\n",
      "                          miscellaneous inquiries       0.32      0.90      0.48       583\n",
      "                                            other       0.20      0.14      0.16       118\n",
      "                                   payment method       0.00      0.00      0.00        15\n",
      "                                      price match       0.00      0.00      0.00         6\n",
      "                   product availability and stock       0.00      0.00      0.00       103\n",
      "                            product compatibility       0.00      0.00      0.00        32\n",
      "                          product details inquiry       0.00      0.00      0.00       223\n",
      "                                   refund request       0.00      0.00      0.00        12\n",
      "                                    refund status       0.00      0.00      0.00         2\n",
      "     renewal of a plan subscription or membership       0.00      0.00      0.00        12\n",
      "                              reschedule delivery       0.00      0.00      0.00         3\n",
      "                                reschedule repair       0.00      0.00      0.00         1\n",
      "                                   return request       0.00      0.00      0.00        12\n",
      "                             rewards or discounts       0.00      0.00      0.00        47\n",
      "                                schedule delivery       0.00      0.00      0.00         3\n",
      "                            schedule installation       0.00      0.00      0.00        35\n",
      "                            schedule order pickup       0.00      0.00      0.00        35\n",
      "                                  schedule repair       0.00      0.00      0.00        69\n",
      "                                   software error       0.00      0.00      0.00        31\n",
      "                            software installation       0.00      0.00      0.00        17\n",
      "                                  software update       0.00      0.00      0.00         2\n",
      "                                 trade in inquiry       0.00      0.00      0.00        20\n",
      "   transfer call to the right department or store       0.00      0.00      0.00       261\n",
      "                                  troubleshooting       0.00      0.00      0.00        53\n",
      "                   unauthorized charge or payment       0.00      0.00      0.00         5\n",
      "                                   warranty claim       0.00      0.00      0.00         1\n",
      "                                    wrong_cluster       0.00      0.00      0.00         0\n",
      "\n",
      "                                         accuracy                           0.36      2452\n",
      "                                        macro avg       0.04      0.06      0.04      2452\n",
      "                                     weighted avg       0.19      0.36      0.24      2452\n",
      "\n"
     ]
    },
    {
     "name": "stderr",
     "output_type": "stream",
     "text": [
      "/home/divij/anaconda3/envs/bestbuy-nlp/lib/python3.11/site-packages/sklearn/metrics/_classification.py:1344: UndefinedMetricWarning: Precision and F-score are ill-defined and being set to 0.0 in labels with no predicted samples. Use `zero_division` parameter to control this behavior.\n",
      "  _warn_prf(average, modifier, msg_start, len(result))\n",
      "/home/divij/anaconda3/envs/bestbuy-nlp/lib/python3.11/site-packages/sklearn/metrics/_classification.py:1344: UndefinedMetricWarning: Recall and F-score are ill-defined and being set to 0.0 in labels with no true samples. Use `zero_division` parameter to control this behavior.\n",
      "  _warn_prf(average, modifier, msg_start, len(result))\n",
      "/home/divij/anaconda3/envs/bestbuy-nlp/lib/python3.11/site-packages/sklearn/metrics/_classification.py:1344: UndefinedMetricWarning: Precision and F-score are ill-defined and being set to 0.0 in labels with no predicted samples. Use `zero_division` parameter to control this behavior.\n",
      "  _warn_prf(average, modifier, msg_start, len(result))\n",
      "/home/divij/anaconda3/envs/bestbuy-nlp/lib/python3.11/site-packages/sklearn/metrics/_classification.py:1344: UndefinedMetricWarning: Recall and F-score are ill-defined and being set to 0.0 in labels with no true samples. Use `zero_division` parameter to control this behavior.\n",
      "  _warn_prf(average, modifier, msg_start, len(result))\n",
      "/home/divij/anaconda3/envs/bestbuy-nlp/lib/python3.11/site-packages/sklearn/metrics/_classification.py:1344: UndefinedMetricWarning: Precision and F-score are ill-defined and being set to 0.0 in labels with no predicted samples. Use `zero_division` parameter to control this behavior.\n",
      "  _warn_prf(average, modifier, msg_start, len(result))\n",
      "/home/divij/anaconda3/envs/bestbuy-nlp/lib/python3.11/site-packages/sklearn/metrics/_classification.py:1344: UndefinedMetricWarning: Recall and F-score are ill-defined and being set to 0.0 in labels with no true samples. Use `zero_division` parameter to control this behavior.\n",
      "  _warn_prf(average, modifier, msg_start, len(result))\n"
     ]
    }
   ],
   "source": [
    "# print f1-score and classification report for this classifier\n",
    "y_true = df_labels.loc[y_pred_queries_website.index][\"label\"].values\n",
    "y_pred = y_pred_queries_website.values\n",
    "\n",
    "micro_f1_score = f1_score(y_true, y_pred, average=\"micro\")\n",
    "print(micro_f1_score)\n",
    "\n",
    "clf_report = classification_report(y_true, y_pred)\n",
    "print(clf_report)"
   ]
  },
  {
   "cell_type": "markdown",
   "metadata": {},
   "source": [
    "#### Cluster: Warranty"
   ]
  },
  {
   "cell_type": "code",
   "execution_count": null,
   "metadata": {},
   "outputs": [],
   "source": [
    "# prepare data\n",
    "\n",
    "# filter obs classified to this cluster\n",
    "cluster_name = \"warranty\"\n",
    "\n",
    "df_test = pd.DataFrame.sparse.from_spmatrix(tfidf_warranty)\n",
    "df_test = df_test[y_pred_cluster[0] == cluster_name]\n",
    "\n",
    "# prepare X\n",
    "X = df_test.to_numpy()"
   ]
  },
  {
   "cell_type": "code",
   "execution_count": null,
   "metadata": {},
   "outputs": [],
   "source": [
    "# run inference\n",
    "y_pred_warranty = model_warranty.predict(X)"
   ]
  },
  {
   "cell_type": "code",
   "execution_count": null,
   "metadata": {},
   "outputs": [],
   "source": [
    "# prepare for the next layer of classifiers\n",
    "y_pred_warranty = pd.Series(\n",
    "    le_warranty.inverse_transform(y_pred_warranty), index=df_test.index\n",
    ")"
   ]
  },
  {
   "cell_type": "code",
   "execution_count": null,
   "metadata": {},
   "outputs": [
    {
     "data": {
      "text/plain": [
       "schedule repair          6776\n",
       "defective product        2154\n",
       "schedule installation    2056\n",
       "troubleshooting          1114\n",
       "other                     926\n",
       "software error            733\n",
       "damaged product           409\n",
       "reschedule repair         381\n",
       "software installation     336\n",
       "warranty claim            294\n",
       "wrong_cluster             116\n",
       "Name: count, dtype: int64"
      ]
     },
     "metadata": {},
     "output_type": "display_data"
    }
   ],
   "source": [
    "y_pred_warranty.value_counts()"
   ]
  },
  {
   "cell_type": "code",
   "execution_count": null,
   "metadata": {},
   "outputs": [
    {
     "name": "stdout",
     "output_type": "stream",
     "text": [
      "0.45786204642039885\n"
     ]
    },
    {
     "name": "stderr",
     "output_type": "stream",
     "text": [
      "/home/divij/anaconda3/envs/bestbuy-nlp/lib/python3.11/site-packages/sklearn/metrics/_classification.py:1344: UndefinedMetricWarning: Precision and F-score are ill-defined and being set to 0.0 in labels with no predicted samples. Use `zero_division` parameter to control this behavior.\n",
      "  _warn_prf(average, modifier, msg_start, len(result))\n",
      "/home/divij/anaconda3/envs/bestbuy-nlp/lib/python3.11/site-packages/sklearn/metrics/_classification.py:1344: UndefinedMetricWarning: Recall and F-score are ill-defined and being set to 0.0 in labels with no true samples. Use `zero_division` parameter to control this behavior.\n",
      "  _warn_prf(average, modifier, msg_start, len(result))\n",
      "/home/divij/anaconda3/envs/bestbuy-nlp/lib/python3.11/site-packages/sklearn/metrics/_classification.py:1344: UndefinedMetricWarning: Precision and F-score are ill-defined and being set to 0.0 in labels with no predicted samples. Use `zero_division` parameter to control this behavior.\n",
      "  _warn_prf(average, modifier, msg_start, len(result))\n",
      "/home/divij/anaconda3/envs/bestbuy-nlp/lib/python3.11/site-packages/sklearn/metrics/_classification.py:1344: UndefinedMetricWarning: Recall and F-score are ill-defined and being set to 0.0 in labels with no true samples. Use `zero_division` parameter to control this behavior.\n",
      "  _warn_prf(average, modifier, msg_start, len(result))\n"
     ]
    },
    {
     "name": "stdout",
     "output_type": "stream",
     "text": [
      "                                                   precision    recall  f1-score   support\n",
      "\n",
      "                                 account security       0.00      0.00      0.00        11\n",
      "                             bad customer service       0.00      0.00      0.00        33\n",
      "                       billing or charge disputes       0.00      0.00      0.00         4\n",
      "                                     cancel order       0.00      0.00      0.00        51\n",
      "cancellation of a plan subscription or membership       0.00      0.00      0.00         9\n",
      "                           change or update order       0.00      0.00      0.00       281\n",
      "                            change payment method       0.00      0.00      0.00         5\n",
      "                          change shipping address       0.00      0.00      0.00        22\n",
      "                                customer feedback       0.00      0.00      0.00        14\n",
      "                                  damaged product       0.48      0.29      0.36       677\n",
      "                                defective product       0.44      0.55      0.49      1738\n",
      "                                  delivery delays       0.00      0.00      0.00        22\n",
      "      delivery or parts of delivery items missing       0.00      0.00      0.00        24\n",
      "                                delivery tracking       0.00      0.00      0.00        63\n",
      "                   employment or career inquiries       0.00      0.00      0.00         4\n",
      "                               forgot my password       0.00      0.00      0.00        40\n",
      "                                   fraud concerns       0.00      0.00      0.00        18\n",
      "                                     login issues       0.00      0.00      0.00        54\n",
      "                          miscellaneous inquiries       0.00      0.00      0.00        34\n",
      "                                            other       0.34      0.31      0.33      1012\n",
      "                                   payment method       0.00      0.00      0.00         5\n",
      "                                      price match       0.00      0.00      0.00         1\n",
      "                   product availability and stock       0.00      0.00      0.00       140\n",
      "                            product compatibility       0.00      0.00      0.00       407\n",
      "                          product details inquiry       0.00      0.00      0.00      1178\n",
      "                                   refund request       0.00      0.00      0.00         7\n",
      "     renewal of a plan subscription or membership       0.00      0.00      0.00        99\n",
      "                              reschedule delivery       0.00      0.00      0.00       256\n",
      "                                reschedule repair       0.51      0.47      0.49       414\n",
      "                                   return request       0.00      0.00      0.00       140\n",
      "                             rewards or discounts       0.00      0.00      0.00         5\n",
      "                                schedule delivery       0.00      0.00      0.00       148\n",
      "                            schedule installation       0.53      0.78      0.63      1392\n",
      "                            schedule order pickup       0.00      0.00      0.00       101\n",
      "                                  schedule repair       0.47      0.81      0.59      3935\n",
      "                                   software error       0.44      0.48      0.46       677\n",
      "                            software installation       0.45      0.34      0.39       441\n",
      "                                  software update       0.00      0.00      0.00        50\n",
      "                                 trade in inquiry       0.00      0.00      0.00        10\n",
      "   transfer call to the right department or store       0.00      0.00      0.00        37\n",
      "                                  troubleshooting       0.48      0.38      0.42      1422\n",
      "                   unauthorized charge or payment       0.00      0.00      0.00        13\n",
      "                                   warranty claim       0.27      0.26      0.26       301\n",
      "                                    wrong_cluster       0.00      0.00      0.00         0\n",
      "\n",
      "                                         accuracy                           0.46     15295\n",
      "                                        macro avg       0.10      0.11      0.10     15295\n",
      "                                     weighted avg       0.36      0.46      0.39     15295\n",
      "\n"
     ]
    },
    {
     "name": "stderr",
     "output_type": "stream",
     "text": [
      "/home/divij/anaconda3/envs/bestbuy-nlp/lib/python3.11/site-packages/sklearn/metrics/_classification.py:1344: UndefinedMetricWarning: Precision and F-score are ill-defined and being set to 0.0 in labels with no predicted samples. Use `zero_division` parameter to control this behavior.\n",
      "  _warn_prf(average, modifier, msg_start, len(result))\n",
      "/home/divij/anaconda3/envs/bestbuy-nlp/lib/python3.11/site-packages/sklearn/metrics/_classification.py:1344: UndefinedMetricWarning: Recall and F-score are ill-defined and being set to 0.0 in labels with no true samples. Use `zero_division` parameter to control this behavior.\n",
      "  _warn_prf(average, modifier, msg_start, len(result))\n"
     ]
    }
   ],
   "source": [
    "# print f1-score and classification report for this classifier\n",
    "y_true = df_labels.loc[y_pred_warranty.index][\"label\"].values\n",
    "y_pred = y_pred_warranty.values\n",
    "\n",
    "micro_f1_score = f1_score(y_true, y_pred, average=\"micro\")\n",
    "print(micro_f1_score)\n",
    "\n",
    "clf_report = classification_report(y_true, y_pred)\n",
    "print(clf_report)"
   ]
  },
  {
   "cell_type": "markdown",
   "metadata": {},
   "source": [
    "## Final metrics"
   ]
  },
  {
   "cell_type": "code",
   "execution_count": null,
   "metadata": {},
   "outputs": [
    {
     "data": {
      "text/plain": [
       "3              schedule repair\n",
       "4              schedule repair\n",
       "9               software error\n",
       "10           defective product\n",
       "15             schedule repair\n",
       "                 ...          \n",
       "47403          troubleshooting\n",
       "47408    schedule installation\n",
       "47410        defective product\n",
       "47412           software error\n",
       "47415          schedule repair\n",
       "Length: 15295, dtype: object"
      ]
     },
     "metadata": {},
     "output_type": "display_data"
    }
   ],
   "source": [
    "y_pred_warranty"
   ]
  },
  {
   "cell_type": "code",
   "execution_count": null,
   "metadata": {},
   "outputs": [],
   "source": [
    "# collate predictions\n",
    "y_preds = pd.concat(\n",
    "    [\n",
    "        y_pred_authorization,\n",
    "        y_pred_order,\n",
    "        y_pred_product,\n",
    "        y_pred_queries_website,\n",
    "        y_pred_warranty,\n",
    "    ]\n",
    ").sort_index()"
   ]
  },
  {
   "cell_type": "code",
   "execution_count": null,
   "metadata": {},
   "outputs": [
    {
     "data": {
      "text/plain": [
       "0        product availability and stock\n",
       "1               miscellaneous inquiries\n",
       "2               product details inquiry\n",
       "3                       schedule repair\n",
       "4                       schedule repair\n",
       "                      ...              \n",
       "47411                      cancel order\n",
       "47412                    software error\n",
       "47413    product availability and stock\n",
       "47414                      cancel order\n",
       "47415                   schedule repair\n",
       "Length: 47416, dtype: object"
      ]
     },
     "metadata": {},
     "output_type": "display_data"
    }
   ],
   "source": [
    "y_preds"
   ]
  },
  {
   "cell_type": "code",
   "execution_count": null,
   "metadata": {},
   "outputs": [
    {
     "name": "stdout",
     "output_type": "stream",
     "text": [
      "0.496688881390248\n"
     ]
    },
    {
     "name": "stderr",
     "output_type": "stream",
     "text": [
      "/home/divij/anaconda3/envs/bestbuy-nlp/lib/python3.11/site-packages/sklearn/metrics/_classification.py:1344: UndefinedMetricWarning: Recall and F-score are ill-defined and being set to 0.0 in labels with no true samples. Use `zero_division` parameter to control this behavior.\n",
      "  _warn_prf(average, modifier, msg_start, len(result))\n",
      "/home/divij/anaconda3/envs/bestbuy-nlp/lib/python3.11/site-packages/sklearn/metrics/_classification.py:1344: UndefinedMetricWarning: Recall and F-score are ill-defined and being set to 0.0 in labels with no true samples. Use `zero_division` parameter to control this behavior.\n",
      "  _warn_prf(average, modifier, msg_start, len(result))\n"
     ]
    },
    {
     "name": "stdout",
     "output_type": "stream",
     "text": [
      "                                                   precision    recall  f1-score   support\n",
      "\n",
      "                                 account security       0.24      0.33      0.28       212\n",
      "                             bad customer service       0.22      0.23      0.23       346\n",
      "                       billing or charge disputes       0.43      0.25      0.32       375\n",
      "                                     cancel order       0.60      0.49      0.54       982\n",
      "cancellation of a plan subscription or membership       0.65      0.68      0.66       796\n",
      "                           change or update order       0.41      0.43      0.42      3037\n",
      "                            change payment method       0.47      0.37      0.41       472\n",
      "                          change shipping address       0.64      0.41      0.50       374\n",
      "                                customer feedback       0.18      0.09      0.12       128\n",
      "                                  damaged product       0.48      0.17      0.26      1133\n",
      "                                defective product       0.44      0.39      0.42      2409\n",
      "                                  delivery delays       0.36      0.12      0.18       259\n",
      "      delivery or parts of delivery items missing       0.11      0.01      0.02       191\n",
      "                                delivery tracking       0.40      0.42      0.41       689\n",
      "                   employment or career inquiries       0.73      0.75      0.74       324\n",
      "                               forgot my password       0.41      0.61      0.49       322\n",
      "                                   fraud concerns       0.49      0.36      0.41       232\n",
      "                                     login issues       0.42      0.50      0.45       424\n",
      "                          miscellaneous inquiries       0.32      0.57      0.41       918\n",
      "                                            other       0.33      0.19      0.25      1996\n",
      "                                   payment method       0.34      0.28      0.31       328\n",
      "                                      price match       0.87      0.84      0.85       845\n",
      "                   product availability and stock       0.69      0.74      0.71      4746\n",
      "                            product compatibility       0.57      0.23      0.33      1362\n",
      "                          product details inquiry       0.39      0.48      0.43      5337\n",
      "                                   refund request       0.37      0.50      0.42       380\n",
      "                                    refund status       0.50      0.42      0.45       189\n",
      "     renewal of a plan subscription or membership       0.61      0.67      0.64      1550\n",
      "                              reschedule delivery       0.58      0.48      0.53       852\n",
      "                                reschedule repair       0.51      0.41      0.46       470\n",
      "                                   return request       0.60      0.67      0.63      1329\n",
      "                             rewards or discounts       0.79      0.64      0.71       807\n",
      "                                schedule delivery       0.36      0.23      0.28       456\n",
      "                            schedule installation       0.53      0.59      0.56      1827\n",
      "                            schedule order pickup       0.60      0.63      0.62      1075\n",
      "                                  schedule repair       0.47      0.72      0.57      4423\n",
      "                                   software error       0.44      0.35      0.39       938\n",
      "                            software installation       0.45      0.20      0.28       769\n",
      "                                  software update       0.37      0.15      0.21       116\n",
      "                                 trade in inquiry       0.82      0.75      0.78       415\n",
      "   transfer call to the right department or store       0.49      0.38      0.43       734\n",
      "                                  troubleshooting       0.48      0.30      0.37      1781\n",
      "                   unauthorized charge or payment       0.51      0.39      0.45       692\n",
      "                                   warranty claim       0.27      0.21      0.23       376\n",
      "                                    wrong_cluster       0.00      0.00      0.00         0\n",
      "\n",
      "                                         accuracy                           0.50     47416\n",
      "                                        macro avg       0.47      0.41      0.43     47416\n",
      "                                     weighted avg       0.50      0.50      0.49     47416\n",
      "\n"
     ]
    },
    {
     "name": "stderr",
     "output_type": "stream",
     "text": [
      "/home/divij/anaconda3/envs/bestbuy-nlp/lib/python3.11/site-packages/sklearn/metrics/_classification.py:1344: UndefinedMetricWarning: Recall and F-score are ill-defined and being set to 0.0 in labels with no true samples. Use `zero_division` parameter to control this behavior.\n",
      "  _warn_prf(average, modifier, msg_start, len(result))\n"
     ]
    }
   ],
   "source": [
    "# print overall f1-score and classification report \n",
    "y_true = df_labels[\"label\"].values\n",
    "y_pred = y_preds.values\n",
    "\n",
    "micro_f1_score = f1_score(y_true, y_pred, average=\"micro\")\n",
    "print(micro_f1_score)\n",
    "\n",
    "clf_report = classification_report(y_true, y_pred)\n",
    "print(clf_report)"
   ]
  },
  {
   "cell_type": "code",
   "execution_count": null,
   "metadata": {},
   "outputs": [
    {
     "data": {
      "text/plain": [
       "schedule repair                                      6776\n",
       "product details inquiry                              6617\n",
       "product availability and stock                       5063\n",
       "change or update order                               3189\n",
       "defective product                                    2154\n",
       "schedule installation                                2056\n",
       "renewal of a plan subscription or membership         1720\n",
       "miscellaneous inquiries                              1612\n",
       "return request                                       1489\n",
       "other                                                1170\n",
       "schedule order pickup                                1126\n",
       "troubleshooting                                      1114\n",
       "cancellation of a plan subscription or membership     833\n",
       "price match                                           821\n",
       "cancel order                                          800\n",
       "software error                                        733\n",
       "delivery tracking                                     728\n",
       "reschedule delivery                                   706\n",
       "rewards or discounts                                  655\n",
       "transfer call to the right department or store        578\n",
       "product compatibility                                 543\n",
       "unauthorized charge or payment                        533\n",
       "refund request                                        514\n",
       "login issues                                          505\n",
       "forgot my password                                    479\n",
       "damaged product                                       409\n",
       "trade in inquiry                                      384\n",
       "reschedule repair                                     381\n",
       "change payment method                                 376\n",
       "bad customer service                                  356\n",
       "software installation                                 336\n",
       "employment or career inquiries                        333\n",
       "warranty claim                                        294\n",
       "account security                                      288\n",
       "schedule delivery                                     286\n",
       "payment method                                        269\n",
       "change shipping address                               242\n",
       "billing or charge disputes                            214\n",
       "wrong_cluster                                         190\n",
       "fraud concerns                                        171\n",
       "refund status                                         159\n",
       "delivery delays                                        89\n",
       "customer feedback                                      60\n",
       "software update                                        46\n",
       "delivery or parts of delivery items missing            19\n",
       "Name: count, dtype: int64"
      ]
     },
     "metadata": {},
     "output_type": "display_data"
    }
   ],
   "source": [
    "# how many were classified as \"other\" or \"wrong cluster\"?\n",
    "y_preds.value_counts()"
   ]
  },
  {
   "cell_type": "code",
   "execution_count": null,
   "metadata": {},
   "outputs": [],
   "source": []
  }
 ],
 "metadata": {
  "language_info": {
   "name": "python"
  }
 },
 "nbformat": 4,
 "nbformat_minor": 2
}
