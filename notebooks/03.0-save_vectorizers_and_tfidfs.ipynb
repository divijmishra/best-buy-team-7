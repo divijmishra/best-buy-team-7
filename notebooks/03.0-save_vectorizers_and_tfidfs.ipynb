{
 "cells": [
  {
   "cell_type": "markdown",
   "metadata": {},
   "source": [
    "## To save time, we can run TF-IDF vectorization on train, validation, test batches at once.\n",
    "#### Note: To run inference on single samples, you would need the trained vectorizer that we save here. "
   ]
  },
  {
   "cell_type": "code",
   "execution_count": null,
   "metadata": {},
   "outputs": [],
   "source": [
    "import spacy\n",
    "import pandas as pd\n",
    "from sklearn.feature_extraction.text import TfidfVectorizer\n",
    "from scipy.sparse import save_npz, load_npz\n",
    "import dill\n",
    "import json\n",
    "import time\n",
    "\n",
    "seed = 1"
   ]
  },
  {
   "cell_type": "code",
   "execution_count": null,
   "metadata": {},
   "outputs": [],
   "source": [
    "# load data\n",
    "load_path = \"../data/clean/\"\n",
    "df_train = pd.read_excel(load_path + \"training_data_cleaned.xlsx\")\n",
    "df_val = pd.read_excel(load_path + \"validation_data_cleaned.xlsx\")\n",
    "df_test = pd.read_excel(load_path + \"test_data_cleaned.xlsx\")"
   ]
  },
  {
   "cell_type": "code",
   "execution_count": null,
   "metadata": {},
   "outputs": [],
   "source": [
    "# doing it en masse\n",
    "\n",
    "codes = [\n",
    "    \"350k_1percent_422words\",\n",
    "    \"authorization_1percent_401words\",\n",
    "    \"order related and payments_1percent_439words\",\n",
    "    \"product queries_1percent_351words\",\n",
    "    \"queries regarding website_1percent_274words\",\n",
    "    \"warranty_1percent_433words\",\n",
    "    \"full_5352words\",\n",
    "]\n",
    "\n",
    "for code in codes:\n",
    "    vocab_path = \"../data/interim/vocabs/vocab_\" + code + \".json\"\n",
    "    vectorizer_path = \"../data/interim/vectorizers/vec_\" + code\n",
    "    tfidf_train_path = \"../data/interim/tfidfs/tfidf_\" + code + \"_train.npz\"\n",
    "    tfidf_val_path = \"../data/interim/tfidfs/tfidf_\" + code + \"_val.npz\"\n",
    "    tfidf_test_path = \"../data/interim/tfidfs/tfidf_\" + code + \"_test.npz\"\n",
    "\n",
    "    with open(vocab_path) as f:\n",
    "        vocab = json.load(f)\n",
    "    vectorizer = TfidfVectorizer(ngram_range=(1, 3), vocabulary=vocab)\n",
    "    tfidf_train = vectorizer.fit_transform(df_train[\"text\"])\n",
    "    tfidf_val = vectorizer.transform(df_val[\"text\"])\n",
    "    tfidf_test = vectorizer.transform(df_test[\"text\"])\n",
    "\n",
    "    with open(vectorizer_path, \"wb\") as f:\n",
    "        dill.dump(vectorizer, f, protocol=3)\n",
    "    save_npz(tfidf_train_path, tfidf_train)\n",
    "    save_npz(tfidf_val_path, tfidf_val)\n",
    "    save_npz(tfidf_test_path, tfidf_test)"
   ]
  }
 ],
 "metadata": {
  "language_info": {
   "name": "python"
  }
 },
 "nbformat": 4,
 "nbformat_minor": 2
}
