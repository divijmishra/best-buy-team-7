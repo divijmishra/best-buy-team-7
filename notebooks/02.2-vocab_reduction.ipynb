{
 "cells": [
  {
   "cell_type": "markdown",
   "metadata": {},
   "source": [
    "## In this notebook, we reduce the ChatGPT vocab by discarding words that are present less than 1% of the time\n",
    "## (Note we do this for the full 350k, as well as for each cluster)"
   ]
  },
  {
   "cell_type": "code",
   "execution_count": null,
   "metadata": {},
   "outputs": [],
   "source": [
    "import spacy\n",
    "import pandas as pd\n",
    "from sklearn.feature_extraction.text import TfidfVectorizer\n",
    "import json\n",
    "import time\n",
    "\n",
    "seed = 1"
   ]
  },
  {
   "cell_type": "code",
   "execution_count": null,
   "metadata": {},
   "outputs": [],
   "source": [
    "# load data\n",
    "load_path = \"../data/clean/training_data_cleaned.xlsx\"\n",
    "df_full = pd.read_excel(load_path, index_col=0)"
   ]
  },
  {
   "cell_type": "code",
   "execution_count": null,
   "metadata": {},
   "outputs": [
    {
     "data": {
      "text/html": [
       "<div>\n",
       "<style scoped>\n",
       "    .dataframe tbody tr th:only-of-type {\n",
       "        vertical-align: middle;\n",
       "    }\n",
       "\n",
       "    .dataframe tbody tr th {\n",
       "        vertical-align: top;\n",
       "    }\n",
       "\n",
       "    .dataframe thead th {\n",
       "        text-align: right;\n",
       "    }\n",
       "</style>\n",
       "<table border=\"1\" class=\"dataframe\">\n",
       "  <thead>\n",
       "    <tr style=\"text-align: right;\">\n",
       "      <th></th>\n",
       "      <th>label</th>\n",
       "      <th>text</th>\n",
       "    </tr>\n",
       "  </thead>\n",
       "  <tbody>\n",
       "    <tr>\n",
       "      <th>0</th>\n",
       "      <td>troubleshooting</td>\n",
       "      <td>agent say contact good buy start phone number ...</td>\n",
       "    </tr>\n",
       "    <tr>\n",
       "      <th>1</th>\n",
       "      <td>schedule installation</td>\n",
       "      <td>agent say phone number customer say marjorie s...</td>\n",
       "    </tr>\n",
       "    <tr>\n",
       "      <th>2</th>\n",
       "      <td>trade in inquiry</td>\n",
       "      <td>agent say thank call good buy telephone number...</td>\n",
       "    </tr>\n",
       "    <tr>\n",
       "      <th>3</th>\n",
       "      <td>account security</td>\n",
       "      <td>agent say um sorry ask complete phone number p...</td>\n",
       "    </tr>\n",
       "    <tr>\n",
       "      <th>4</th>\n",
       "      <td>product availability and stock</td>\n",
       "      <td>agent say thank contact good buy chad start ph...</td>\n",
       "    </tr>\n",
       "    <tr>\n",
       "      <th>...</th>\n",
       "      <td>...</td>\n",
       "      <td>...</td>\n",
       "    </tr>\n",
       "    <tr>\n",
       "      <th>379323</th>\n",
       "      <td>rewards or discounts</td>\n",
       "      <td>agent say thank call good buy date ask phone n...</td>\n",
       "    </tr>\n",
       "    <tr>\n",
       "      <th>379324</th>\n",
       "      <td>product details inquiry</td>\n",
       "      <td>agent say moment phone number please.customer ...</td>\n",
       "    </tr>\n",
       "    <tr>\n",
       "      <th>379325</th>\n",
       "      <td>schedule repair</td>\n",
       "      <td>agent say call phone number please.customer sa...</td>\n",
       "    </tr>\n",
       "    <tr>\n",
       "      <th>379326</th>\n",
       "      <td>troubleshooting</td>\n",
       "      <td>agent say hi thank call good buy start phone n...</td>\n",
       "    </tr>\n",
       "    <tr>\n",
       "      <th>379327</th>\n",
       "      <td>schedule installation</td>\n",
       "      <td>agent say call good buy phone number case disc...</td>\n",
       "    </tr>\n",
       "  </tbody>\n",
       "</table>\n",
       "<p>379328 rows × 2 columns</p>\n",
       "</div>"
      ],
      "text/plain": [
       "                                 label  \\\n",
       "0                      troubleshooting   \n",
       "1                schedule installation   \n",
       "2                     trade in inquiry   \n",
       "3                     account security   \n",
       "4       product availability and stock   \n",
       "...                                ...   \n",
       "379323            rewards or discounts   \n",
       "379324         product details inquiry   \n",
       "379325                 schedule repair   \n",
       "379326                 troubleshooting   \n",
       "379327           schedule installation   \n",
       "\n",
       "                                                     text  \n",
       "0       agent say contact good buy start phone number ...  \n",
       "1       agent say phone number customer say marjorie s...  \n",
       "2       agent say thank call good buy telephone number...  \n",
       "3       agent say um sorry ask complete phone number p...  \n",
       "4       agent say thank contact good buy chad start ph...  \n",
       "...                                                   ...  \n",
       "379323  agent say thank call good buy date ask phone n...  \n",
       "379324  agent say moment phone number please.customer ...  \n",
       "379325  agent say call phone number please.customer sa...  \n",
       "379326  agent say hi thank call good buy start phone n...  \n",
       "379327  agent say call good buy phone number case disc...  \n",
       "\n",
       "[379328 rows x 2 columns]"
      ]
     },
     "metadata": {},
     "output_type": "display_data"
    }
   ],
   "source": [
    "# sample some data\n",
    "# df = df_full.sample(n=int(1e4), random_state=seed, ignore_index=True)\n",
    "df = df_full"
   ]
  },
  {
   "cell_type": "code",
   "execution_count": null,
   "metadata": {},
   "outputs": [],
   "source": [
    "# clusters\n",
    "# note: cluster names are not representative of the classes they contain\n",
    "clusters = {\n",
    "    \"authorization\": [\n",
    "        \"account cancellation\",\n",
    "        \"account security\",\n",
    "        \"login issues\",\n",
    "        \"forgot my password\",\n",
    "        \"software update\",\n",
    "    ],\n",
    "    \"order related and payments\": [\n",
    "        \"best buy credit card\",\n",
    "        \"payment failed\",\n",
    "        \"billing or charge disputes\",\n",
    "        \"cancel order\",\n",
    "        \"unauthorized charge or payment\",\n",
    "        \"refund request\",\n",
    "        \"fraud concerns\",\n",
    "        \"return request\",\n",
    "        \"cancellation of a plan subscription or membership\",\n",
    "        \"account cancellation\",\n",
    "        \"change or update order\",\n",
    "        \"schedule order pickup\",\n",
    "        \"change shipping time\",\n",
    "        \"delivery tracking\",\n",
    "        \"refund status\",\n",
    "        \"change payment method\",\n",
    "        \"payment method\",\n",
    "        \"change shipping address\",\n",
    "        \"delivery or parts of delivery items missing\",\n",
    "        \"renewal of a plan subscription or membership\",\n",
    "        \"reschedule delivery\",\n",
    "        \"reschedule order pickup\",\n",
    "        \"rewards or discounts\",\n",
    "        \"schedule delivery\",\n",
    "        \"trade in inquiry\",\n",
    "        \"delivery delays\",\n",
    "    ],\n",
    "    \"warranty\": [\n",
    "        \"check warranty coverage\",\n",
    "        \"damaged product\",\n",
    "        \"warranty claim\",\n",
    "        \"reschedule repair\",\n",
    "        \"device damaged\",\n",
    "        \"incomplete installation\",\n",
    "        \"lost or forgot items\",\n",
    "        \"reschedule installation\",\n",
    "        \"schedule repair\",\n",
    "        \"screen issues\",\n",
    "        \"software error\",\n",
    "        \"software installation\",\n",
    "        \"schedule installation\",\n",
    "        \"troubleshooting\",\n",
    "        \"performance issues\",\n",
    "        \"defective product\",\n",
    "    ],\n",
    "    \"queries regarding website\": [\n",
    "        \"employment or career inquiries\",\n",
    "        \"website or app complaints\",\n",
    "        \"incomplete installation\",\n",
    "        \"miscellaneous inquiries\",\n",
    "        \"network or connectivity issues\",\n",
    "        \"customer feedback\",\n",
    "        \"bad customer service\",\n",
    "    ],\n",
    "    \"product queries\": [\n",
    "        \"price match\",  # 6759\n",
    "        \"product availability and stock\",  # 37972\n",
    "        \"product compatibility\",  # 10897\n",
    "        \"product details inquiry\",  # 42698\n",
    "        \"transfer call to the right department or store\",  # 5869\n",
    "    ],\n",
    "}\n",
    "\n",
    "# create a reverse lookup dict,\n",
    "# i.e. keys are labels and values are cluster labels\n",
    "cluster_lookup_dict = {}\n",
    "for cluster_label, v in clusters.items():\n",
    "    for label in v:\n",
    "        cluster_lookup_dict[label] = cluster_label"
   ]
  },
  {
   "cell_type": "code",
   "execution_count": null,
   "metadata": {},
   "outputs": [],
   "source": [
    "df[\"cluster_label\"] = df[\"label\"].apply(lambda x: cluster_lookup_dict[x])"
   ]
  },
  {
   "cell_type": "code",
   "execution_count": null,
   "metadata": {},
   "outputs": [
    {
     "data": {
      "text/plain": [
       "cluster_label\n",
       "order related and payments    126932\n",
       "warranty                      124098\n",
       "product queries               104195\n",
       "queries regarding website      15504\n",
       "authorization                   8599\n",
       "Name: count, dtype: int64"
      ]
     },
     "metadata": {},
     "output_type": "display_data"
    }
   ],
   "source": [
    "df[\"cluster_label\"].value_counts()"
   ]
  },
  {
   "cell_type": "markdown",
   "metadata": {},
   "source": [
    "### Apply TF-IDF with the custom vocab"
   ]
  },
  {
   "cell_type": "code",
   "execution_count": null,
   "metadata": {},
   "outputs": [],
   "source": [
    "# load the vocab\n",
    "vocab_path = \"../data/interim/vocabs/vocab_full_5352words.json\"\n",
    "with open(vocab_path) as f:\n",
    "    vocab = json.load(f)"
   ]
  },
  {
   "cell_type": "markdown",
   "metadata": {},
   "source": [
    "### Dataframes for each cluster"
   ]
  },
  {
   "cell_type": "code",
   "execution_count": null,
   "metadata": {},
   "outputs": [],
   "source": [
    "dfs = {}  # Dicts with key,val pairs (cluster_name:fltered_df)\n",
    "for c in list(clusters.keys()):\n",
    "    df_filtered = df.loc[df[\"cluster_label\"] == c]\n",
    "    dfs[c] = df_filtered\n",
    "\n",
    "# dfs"
   ]
  },
  {
   "cell_type": "markdown",
   "metadata": {},
   "source": [
    "### Reduce Vocab for each cluster"
   ]
  },
  {
   "cell_type": "code",
   "execution_count": null,
   "metadata": {},
   "outputs": [
    {
     "name": "stdout",
     "output_type": "stream",
     "text": [
      "(8599, 5352)\n",
      "converted to dense\n"
     ]
    }
   ],
   "source": [
    "cluster_vocab = {}\n",
    "for cluster, df_cluster in dfs.items():\n",
    "    # tfidf for filtered df corresp to each cluster\n",
    "    vectorizer = TfidfVectorizer(ngram_range=(1, 3), vocabulary=vocab)\n",
    "    tfidf = vectorizer.fit_transform(df_cluster[\"text\"])\n",
    "    print(tfidf.shape)\n",
    "    length_cluster = len(df_cluster)\n",
    "    corpus_index = list(range(length_cluster))\n",
    "    df_tfidf_raw = pd.DataFrame(\n",
    "        tfidf.transpose().todense(), index=vocab, columns=corpus_index\n",
    "    )\n",
    "    print(\"converted to dense\")\n",
    "    df_tfidf = df_tfidf_raw[[0, 1]].copy()\n",
    "    # non-zero tfd\n",
    "    df_tfidf[\"non_zero_tfs\"] = (df_tfidf_raw > 0).sum(axis=1)\n",
    "    tf_bools = df_tfidf[\"non_zero_tfs\"].copy()\n",
    "    tf_bools.sort_values(ascending=False, inplace=True)\n",
    "    tf_bools.to_dict()\n",
    "    # reduce vocab\n",
    "    percent = 1\n",
    "    count = int(length_cluster * percent / 100)\n",
    "    high_freq_words = df_tfidf[df_tfidf[\"non_zero_tfs\"] >= count]\n",
    "    cluster_vocab[cluster] = high_freq_words\n",
    "    high_freq_vocab = high_freq_words.index.to_list()\n",
    "    # sace vocab\n",
    "    save_path = f\"../data/interim/vocabs/vocab_{cluster}_{percent}percent_{len(high_freq_vocab)}words.json\"\n",
    "    with open(save_path, \"w\") as f:\n",
    "        json.dump(high_freq_vocab, f)"
   ]
  }
 ],
 "metadata": {
  "language_info": {
   "name": "python"
  }
 },
 "nbformat": 4,
 "nbformat_minor": 2
}
